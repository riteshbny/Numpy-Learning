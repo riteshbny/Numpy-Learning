{
 "cells": [
  {
   "cell_type": "code",
   "execution_count": 1,
   "id": "de5e0cd2",
   "metadata": {},
   "outputs": [],
   "source": [
    "import numpy as np\n",
    "import time\n",
    "import sys"
   ]
  },
  {
   "cell_type": "code",
   "execution_count": 2,
   "id": "0e85d425",
   "metadata": {},
   "outputs": [],
   "source": [
    "SIZE = 100000\n",
    "l1 = range(SIZE)\n",
    "l2 = range(SIZE)\n",
    "a1 = np.arange(SIZE)\n",
    "a2 = np.arange(SIZE)"
   ]
  },
  {
   "cell_type": "markdown",
   "id": "8a53c541",
   "metadata": {},
   "source": [
    "*#Python list*"
   ]
  },
  {
   "cell_type": "code",
   "execution_count": 4,
   "id": "a1d5c4eb",
   "metadata": {},
   "outputs": [
    {
     "name": "stdout",
     "output_type": "stream",
     "text": [
      "python list took:  19.496917724609375\n"
     ]
    }
   ],
   "source": [
    "start = time.time()\n",
    "result = [(x+y) for x,y in zip(l1,l2)]\n",
    "print(\"python list took: \",(time.time()-start)*1000)"
   ]
  },
  {
   "cell_type": "markdown",
   "id": "cdb1595e",
   "metadata": {},
   "source": [
    "*#numpy array*"
   ]
  },
  {
   "cell_type": "code",
   "execution_count": 6,
   "id": "42aa87fd",
   "metadata": {},
   "outputs": [
    {
     "name": "stdout",
     "output_type": "stream",
     "text": [
      "numpy took:  15.204429626464844\n"
     ]
    }
   ],
   "source": [
    "start = time.time()\n",
    "result = a1 + a2\n",
    "print(\"numpy took: \", (time.time()-start)*1000)"
   ]
  }
 ],
 "metadata": {
  "kernelspec": {
   "display_name": "Python 3 (ipykernel)",
   "language": "python",
   "name": "python3"
  },
  "language_info": {
   "codemirror_mode": {
    "name": "ipython",
    "version": 3
   },
   "file_extension": ".py",
   "mimetype": "text/x-python",
   "name": "python",
   "nbconvert_exporter": "python",
   "pygments_lexer": "ipython3",
   "version": "3.9.13"
  }
 },
 "nbformat": 4,
 "nbformat_minor": 5
}
